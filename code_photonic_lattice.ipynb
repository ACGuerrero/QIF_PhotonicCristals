{
 "cells": [
  {
   "cell_type": "code",
   "execution_count": 5,
   "metadata": {},
   "outputs": [],
   "source": [
    "import numpy as np\n",
    "import matplotlib.pyplot as plt\n",
    "from scipy.constants import hbar, e, epsilon_0, c, m_u, k, m_e, alpha"
   ]
  },
  {
   "cell_type": "code",
   "execution_count": 19,
   "metadata": {},
   "outputs": [],
   "source": [
    "def Pressure(T):\n",
    "    \"\"\"Vapor pressure in a thermal cell\n",
    "    expects T in Kelvin\"\"\"\n",
    "    # return 7e-8 # <--- USE THIS for finding background P\n",
    "    if (T<312.46):\n",
    "        return 10**( -94.04826 - 1961.258/T - 0.03771687*T + 42.57526*np.log10(T) )\n",
    "    else:\n",
    "        return 10**( 15.88253 - 4529.635/T + 0.00058663*T - 2.99138*np.log10(T) )"
   ]
  },
  {
   "cell_type": "code",
   "execution_count": 23,
   "metadata": {},
   "outputs": [
    {
     "name": "stdout",
     "output_type": "stream",
     "text": [
      "1789856166.5598528\n"
     ]
    }
   ],
   "source": [
    "T = 200\n",
    "N = Pressure(T)*133.323/(k*T)\n",
    "print(N)\n"
   ]
  },
  {
   "cell_type": "code",
   "execution_count": 37,
   "metadata": {},
   "outputs": [
    {
     "data": {
      "image/png": "[encoded data removed]",
      "text/plain": [
       "<Figure size 432x288 with 1 Axes>"
      ]
     },
     "metadata": {
      "needs_background": "light"
     },
     "output_type": "display_data"
    }
   ],
   "source": [
    "lambda_at = 780*1e-9\n",
    "gamma = 6 #MHz\n",
    "\n",
    "detuning = np.linspace(-10,10,100)\n",
    "\n",
    "chi1 = -N*3*((lambda_at**3)/(4*np.pi**2))*((2*detuning/gamma)-1j)/(1+4*(detuning/gamma)**2)\n",
    "disp_indice = np.real(np.sqrt(1+chi1))\n",
    "\n",
    "#plt.plot(detuning,disp_indice)\n",
    "#plt.xlabel('detuning')\n",
    "#plt.ylabel('n')\n",
    "\n",
    "def chi(rho_lam3,delta_gamma):\n",
    "    return -3*((rho_lam3)/(4*np.pi**2))*((2*delta_gamma)-1j)/(1+4*(delta_gamma)**2)\n",
    "    \n",
    "def n(rho_lam3,delta_gamma):\n",
    "    return np.real(np.sqrt(1+chi(rho_lam3,delta_gamma)))\n",
    "\n",
    "def nxi(xi):\n",
    "    return np.real(np.sqrt(1+xi))\n",
    "\n",
    "delta_gamma = np.linspace(-10,10,100)\n",
    "rho_lambda = np.array([e-3,e-2,e-1,1,10])\n",
    "wavelength = 780.241209686*1e-9\n",
    "plt.figure()\n",
    "for rho_lam in rho_lambda:\n",
    "    plt.plot(delta_gamma,n(rho_lam,delta_gamma),label = rho_lam)\n",
    "plt.xlabel('Delta/Gamma')\n",
    "plt.legend()\n",
    "plt.ylabel('n')\n",
    "plt.savefig('figures/n_vs_delta.pdf')\n",
    "plt.show()\n",
    "plt.close()"
   ]
  },
  {
   "cell_type": "code",
   "execution_count": 44,
   "metadata": {},
   "outputs": [
    {
     "ename": "TypeError",
     "evalue": "n() missing 1 required positional argument: 'delta_gamma'",
     "output_type": "error",
     "traceback": [
      "\u001b[0;31m---------------------------------------------------------------------------\u001b[0m",
      "\u001b[0;31mTypeError\u001b[0m                                 Traceback (most recent call last)",
      "\u001b[0;32m/tmp/ipykernel_7880/286563561.py\u001b[0m in \u001b[0;36m<module>\u001b[0;34m\u001b[0m\n\u001b[1;32m      5\u001b[0m \u001b[0mdetuning\u001b[0m \u001b[0;34m=\u001b[0m \u001b[0mnp\u001b[0m\u001b[0;34m.\u001b[0m\u001b[0mlinspace\u001b[0m\u001b[0;34m(\u001b[0m\u001b[0;34m-\u001b[0m\u001b[0;36m10\u001b[0m\u001b[0;34m,\u001b[0m\u001b[0;36m10\u001b[0m\u001b[0;34m,\u001b[0m\u001b[0;36m10000\u001b[0m\u001b[0;34m)\u001b[0m\u001b[0;34m\u001b[0m\u001b[0;34m\u001b[0m\u001b[0m\n\u001b[1;32m      6\u001b[0m \u001b[0mX\u001b[0m\u001b[0;34m,\u001b[0m\u001b[0mY\u001b[0m \u001b[0;34m=\u001b[0m \u001b[0mnp\u001b[0m\u001b[0;34m.\u001b[0m\u001b[0mmeshgrid\u001b[0m\u001b[0;34m(\u001b[0m\u001b[0mrho_lambda\u001b[0m\u001b[0;34m,\u001b[0m\u001b[0mdetuning\u001b[0m\u001b[0;34m)\u001b[0m\u001b[0;34m\u001b[0m\u001b[0;34m\u001b[0m\u001b[0m\n\u001b[0;32m----> 7\u001b[0;31m \u001b[0mZ\u001b[0m \u001b[0;34m=\u001b[0m \u001b[0mn\u001b[0m\u001b[0;34m(\u001b[0m\u001b[0mXii\u001b[0m\u001b[0;34m(\u001b[0m\u001b[0mX\u001b[0m\u001b[0;34m,\u001b[0m\u001b[0mY\u001b[0m\u001b[0;34m)\u001b[0m\u001b[0;34m)\u001b[0m\u001b[0;34m\u001b[0m\u001b[0;34m\u001b[0m\u001b[0m\n\u001b[0m\u001b[1;32m      8\u001b[0m \u001b[0mplt\u001b[0m\u001b[0;34m.\u001b[0m\u001b[0mfigure\u001b[0m\u001b[0;34m(\u001b[0m\u001b[0;34m)\u001b[0m\u001b[0;34m\u001b[0m\u001b[0;34m\u001b[0m\u001b[0m\n\u001b[1;32m      9\u001b[0m \u001b[0mplt\u001b[0m\u001b[0;34m.\u001b[0m\u001b[0mxlabel\u001b[0m\u001b[0;34m(\u001b[0m\u001b[0;34m'rho lambda3'\u001b[0m\u001b[0;34m)\u001b[0m\u001b[0;34m\u001b[0m\u001b[0;34m\u001b[0m\u001b[0m\n",
      "\u001b[0;31mTypeError\u001b[0m: n() missing 1 required positional argument: 'delta_gamma'"
     ]
    }
   ],
   "source": [
    "def Xii(rho_lambda,delta_gamma):\n",
    "    return -3*(rho_lambda/(4*np.pi**2))*((2*delta_gamma))/(1+4*(delta_gamma)**2)\n",
    "\n",
    "rho_lambda = np.linspace(1e-3,10,10000)\n",
    "detuning = np.linspace(-10,10,10000)\n",
    "X,Y = np.meshgrid(rho_lambda,detuning)\n",
    "Z = n(Xii(X,Y))\n",
    "plt.figure()\n",
    "plt.xlabel('rho lambda3')\n",
    "plt.ylabel('Delta/gamma')\n",
    "plt.imshow(Z)\n",
    "plt.title('Xi')\n",
    "plt.colorbar()\n",
    "plt.savefig('figures/xi.pdf')\n",
    "plt.close()"
   ]
  },
  {
   "cell_type": "code",
   "execution_count": 12,
   "metadata": {},
   "outputs": [
    {
     "name": "stdout",
     "output_type": "stream",
     "text": [
      "None\n"
     ]
    }
   ],
   "source": [
    "print(Xii(1,2))"
   ]
  },
  {
   "cell_type": "code",
   "execution_count": null,
   "metadata": {},
   "outputs": [],
   "source": []
  }
 ],
 "metadata": {
  "kernelspec": {
   "display_name": "Python 3",
   "language": "python",
   "name": "python3"
  },
  "language_info": {
   "codemirror_mode": {
    "name": "ipython",
    "version": 3
   },
   "file_extension": ".py",
   "mimetype": "text/x-python",
   "name": "python",
   "nbconvert_exporter": "python",
   "pygments_lexer": "ipython3",
   "version": "3.10.12"
  },
  "orig_nbformat": 4,
  "vscode": {
   "interpreter": {
    "hash": "916dbcbb3f70747c44a77c7bcd40155683ae19c65e1c03b4aa3499c5328201f1"
   }
  }
 },
 "nbformat": 4,
 "nbformat_minor": 2
}
