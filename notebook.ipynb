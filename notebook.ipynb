{
 "cells": [
  {
   "cell_type": "code",
   "execution_count": 1,
   "metadata": {},
   "outputs": [],
   "source": [
    "import numpy as np\n",
    "from scipy.constants import c\n",
    "import matplotlib.pyplot as plt"
   ]
  },
  {
   "cell_type": "code",
   "execution_count": 34,
   "metadata": {},
   "outputs": [],
   "source": [
    "def wavelength_to_pulsation(wl):\n",
    "    return (2*np.pi*c)/(wl)\n",
    "\n",
    "def pulsation_to_wavelength(om):\n",
    "    return (2*np.pi*c)/(om)"
   ]
  },
  {
   "cell_type": "code",
   "execution_count": 95,
   "metadata": {},
   "outputs": [],
   "source": [
    "target_central_wl = 600e-9\n",
    "target_puls = wavelength_to_pulsation(target_central_wl)\n",
    "epsilon = 10e-9"
   ]
  },
  {
   "cell_type": "code",
   "execution_count": 96,
   "metadata": {},
   "outputs": [
    {
     "data": {
      "text/plain": [
       "<matplotlib.image.AxesImage at 0x7f4098adb940>"
      ]
     },
     "execution_count": 96,
     "metadata": {},
     "output_type": "execute_result"
    },
    {
     "data": {
      "image/png": "[encoded data removed]",
      "text/plain": [
       "<Figure size 432x288 with 1 Axes>"
      ]
     },
     "metadata": {
      "needs_background": "light"
     },
     "output_type": "display_data"
    }
   ],
   "source": [
    "a=9.382740032052839e-08 \n",
    "n1=np.linspace(1,4,100)\n",
    "n2=n1\n",
    "N1 , N2 = np.meshgrid(n1,n2)\n",
    "wm = 2*np.pi*c*(N1+N2)/(a*4*N1*N2)\n",
    "l = 2*np.pi*c/wm\n",
    "\n",
    "#plt.figure()\n",
    "#plt.imshow(l)\n",
    "#plt.colorbar()\n",
    "#plt.savefig('figure.pdf')\n",
    "#plt.show()\n",
    "#plt.close()\n",
    "\n",
    "ind= np.where((l>(target_central_wl-epsilon)) & (l<(target_central_wl+epsilon)))\n",
    "indzero = np.where((l>(target_central_wl-epsilon)) & (l<(target_central_wl+epsilon))==False)\n",
    "mask = np.ones(N1.shape)\n",
    "mask[indzero] = 0\n",
    "N1_new,N2_new = N1[ind],N2[ind]\n",
    "plt.imshow(mask)"
   ]
  },
  {
   "cell_type": "code",
   "execution_count": 97,
   "metadata": {},
   "outputs": [
    {
     "data": {
      "image/png": "[encoded data removed]",
      "text/plain": [
       "<Figure size 432x288 with 2 Axes>"
      ]
     },
     "metadata": {
      "needs_background": "light"
     },
     "output_type": "display_data"
    },
    {
     "name": "stdout",
     "output_type": "stream",
     "text": [
      "2.216475988100627e-06\n"
     ]
    }
   ],
   "source": [
    "Dw =(4/(np.pi))*np.arcsin(np.abs(N1-N2)/(N1+N2))*target_puls\n",
    "plt.figure()\n",
    "plt.imshow(Dw*mask)\n",
    "plt.colorbar()\n",
    "plt.show()\n",
    "plt.close()\n",
    "print(pulsation_to_wavelength(np.max(Dw*mask)))"
   ]
  },
  {
   "cell_type": "code",
   "execution_count": 101,
   "metadata": {},
   "outputs": [],
   "source": [
    "def get_max_bandgap(n1,n2,a,target_puls):\n",
    "    wm = 2*np.pi*c*(N1+N2)/(a*4*N1*N2)\n",
    "    l = 2*np.pi*c/wm\n",
    "    indzero = np.where((l>(target_central_wl-epsilon)) & (l<(target_central_wl+epsilon))==False)\n",
    "    mask = np.ones(N1.shape)\n",
    "    mask[indzero] = 0\n",
    "    Dw =(4/(np.pi))*np.arcsin(np.abs(N1-N2)/(N1+N2))*target_puls\n",
    "    ind_for_disp = np.where(Dw*mask==np.max(Dw*mask))\n",
    "    return (pulsation_to_wavelength(np.max(Dw*mask)), n1[ind_for_disp],n2[ind_for_disp])"
   ]
  },
  {
   "cell_type": "code",
   "execution_count": 135,
   "metadata": {},
   "outputs": [],
   "source": [
    "def get_max_bandgap(n1_given,n2_given,a,target_wl_user):\n",
    "    wm = 2*np.pi*c*(n1_given+n2_given)/(a*4*n1_given*n2_given)\n",
    "    l = 2*np.pi*c/wm\n",
    "    indzero = np.where((l>(target_wl_user-epsilon)) & (l<(target_wl_user+epsilon))==False)\n",
    "    mask = np.ones(n1_given.shape)\n",
    "    mask[indzero] = 0\n",
    "    Dw =(4/(np.pi))*np.arcsin(np.abs(n1_given-n2_given)/(n1_given+n2_given))*wavelength_to_pulsation(target_wl_user)\n",
    "    ind_for_disp = np.where(Dw*mask==np.max(Dw*mask))\n",
    "    print(ind_for_disp)\n",
    "    return (pulsation_to_wavelength(np.max(Dw*mask)), n1_given[ind_for_disp],n2_given[ind_for_disp])"
   ]
  },
  {
   "cell_type": "code",
   "execution_count": 136,
   "metadata": {},
   "outputs": [
    {
     "name": "stdout",
     "output_type": "stream",
     "text": [
      "(array([80, 99]), array([99, 80]))\n",
      "(7.082133713657666e-06, array([4.        , 3.42424242]), array([3.42424242, 4.        ]))\n"
     ]
    }
   ],
   "source": [
    "print(get_max_bandgap(N1,N2,a,700e-9))"
   ]
  },
  {
   "cell_type": "code",
   "execution_count": 139,
   "metadata": {},
   "outputs": [
    {
     "name": "stdout",
     "output_type": "stream",
     "text": [
      "4.375e-08\n",
      "5.116959064327485e-08\n",
      "9.491959064327486e-08\n"
     ]
    }
   ],
   "source": [
    "d1 = 700e-9/(4*4)\n",
    "d2 = 700e-9/(4*3.42)\n",
    "print(d1)\n",
    "print(d2)\n",
    "\n",
    "print(d1+d2)"
   ]
  },
  {
   "cell_type": "code",
   "execution_count": null,
   "metadata": {},
   "outputs": [],
   "source": []
  }
 ],
 "metadata": {
  "kernelspec": {
   "display_name": "Python 3",
   "language": "python",
   "name": "python3"
  },
  "language_info": {
   "codemirror_mode": {
    "name": "ipython",
    "version": 3
   },
   "file_extension": ".py",
   "mimetype": "text/x-python",
   "name": "python",
   "nbconvert_exporter": "python",
   "pygments_lexer": "ipython3",
   "version": "3.10.12"
  },
  "orig_nbformat": 4,
  "vscode": {
   "interpreter": {
    "hash": "916dbcbb3f70747c44a77c7bcd40155683ae19c65e1c03b4aa3499c5328201f1"
   }
  }
 },
 "nbformat": 4,
 "nbformat_minor": 2
}
